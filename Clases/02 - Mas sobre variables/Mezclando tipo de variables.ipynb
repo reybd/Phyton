{
 "cells": [
  {
   "cell_type": "code",
   "execution_count": 8,
   "id": "c1c665c5",
   "metadata": {},
   "outputs": [
    {
     "name": "stdout",
     "output_type": "stream",
     "text": [
      "O faturamentoda loja é: 2750\n",
      "O custo da loja é: 500\n",
      "O lucro ao final do mes da loja é: 2250\n"
     ]
    }
   ],
   "source": [
    "faturamento = 2750\n",
    "custo = 500\n",
    "lucro = faturamento - custo\n",
    "\n",
    "print(\"O faturamentoda loja é: \" + str(faturamento))\n",
    "print(\"O custo da loja é: \" + str(custo))\n",
    "print(\"O lucro ao final do mes da loja é: \" + str(lucro))"
   ]
  }
 ],
 "metadata": {
  "kernelspec": {
   "display_name": "Python 3 (ipykernel)",
   "language": "python",
   "name": "python3"
  },
  "language_info": {
   "codemirror_mode": {
    "name": "ipython",
    "version": 3
   },
   "file_extension": ".py",
   "mimetype": "text/x-python",
   "name": "python",
   "nbconvert_exporter": "python",
   "pygments_lexer": "ipython3",
   "version": "3.9.7"
  }
 },
 "nbformat": 4,
 "nbformat_minor": 5
}
