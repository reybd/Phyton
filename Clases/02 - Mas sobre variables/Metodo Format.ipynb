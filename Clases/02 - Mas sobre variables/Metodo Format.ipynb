{
 "cells": [
  {
   "cell_type": "code",
   "execution_count": 10,
   "id": "b9213ba7",
   "metadata": {},
   "outputs": [
    {
     "name": "stdout",
     "output_type": "stream",
     "text": [
      "O faturamento da loja é: 2750. O custo da loja foi: 500. O lucro da loja foi:2250\n",
      "O custo da loja é: 500\n",
      "O lucro ao final do mes da loja é: 2250\n"
     ]
    }
   ],
   "source": [
    "faturamento = 2750\n",
    "custo = 500\n",
    "lucro = faturamento - custo\n",
    "\n",
    "print(\"O faturamento da loja é: {}. O custo da loja foi: {}. O lucro da loja foi:{}\" .format(faturamento,custo,lucro))\n",
    "print(\"O custo da loja é: {}\" .format(custo))\n",
    "print(\"O lucro ao final do mes da loja é: {}\" .format(lucro))"
   ]
  }
 ],
 "metadata": {
  "kernelspec": {
   "display_name": "Python 3 (ipykernel)",
   "language": "python",
   "name": "python3"
  },
  "language_info": {
   "codemirror_mode": {
    "name": "ipython",
    "version": 3
   },
   "file_extension": ".py",
   "mimetype": "text/x-python",
   "name": "python",
   "nbconvert_exporter": "python",
   "pygments_lexer": "ipython3",
   "version": "3.9.7"
  }
 },
 "nbformat": 4,
 "nbformat_minor": 5
}
