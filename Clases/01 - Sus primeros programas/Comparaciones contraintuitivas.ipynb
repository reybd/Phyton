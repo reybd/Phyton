{
 "cells": [
  {
   "cell_type": "code",
   "execution_count": 10,
   "id": "11e0f783",
   "metadata": {},
   "outputs": [
    {
     "name": "stdout",
     "output_type": "stream",
     "text": [
      "Cual fue la facturacion de este mes de la UEB-4?: \n",
      "Cual fue el costo de la UEB-4 este mes?: 10\n",
      "Por favor ingrese el valor de facturacion o el de costo!!!!!\n"
     ]
    }
   ],
   "source": [
    "facturacion = input(\"Cual fue la facturacion de este mes de la UEB-4?: \")\n",
    "costo = input(\"Cual fue el costo de la UEB-4 este mes?: \")\n",
    "\n",
    "if facturacion == \"\" or costo == \"\":\n",
    "    print(\"Por favor ingrese el valor de facturacion o el de costo!!!!!\")\n",
    "else:    \n",
    "    lucro = int(facturacion) - int(costo)\n",
    "    print(\"El lucro de la UEB-4 este mes fue de: {} reais\".format(lucro))\n"
   ]
  }
 ],
 "metadata": {
  "kernelspec": {
   "display_name": "Python 3 (ipykernel)",
   "language": "python",
   "name": "python3"
  },
  "language_info": {
   "codemirror_mode": {
    "name": "ipython",
    "version": 3
   },
   "file_extension": ".py",
   "mimetype": "text/x-python",
   "name": "python",
   "nbconvert_exporter": "python",
   "pygments_lexer": "ipython3",
   "version": "3.9.7"
  }
 },
 "nbformat": 4,
 "nbformat_minor": 5
}
