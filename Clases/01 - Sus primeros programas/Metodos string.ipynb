{
 "cells": [
  {
   "cell_type": "code",
   "execution_count": 29,
   "id": "d99c1d9e",
   "metadata": {},
   "outputs": [
    {
     "name": "stdout",
     "output_type": "stream",
     "text": [
      "\"reyr4@cuba.com vengo a informarte\n",
      "que este es mi correo y\n",
      "que puedes escribirme ahi\n",
      "\"reyr4@cuba.com vengo a informarte\n",
      "que este es mi correo y\n",
      "que puedes escribirme ahi\n",
      "8\n",
      "False\n",
      "False\n",
      "False\n",
      "False\n",
      "\"reyr4@cuba,com vengo a informarte\n",
      "que este es mi correo y\n",
      "que puedes escribirme ahi\n",
      "['\"reyr4', 'cuba.com vengo a informarte\\nque este es mi correo y\\nque puedes escribirme ahi']\n",
      "['\"reyr4@cuba.com vengo a informarte', 'que este es mi correo y', 'que puedes escribirme ahi']\n",
      "False\n",
      "reynier banos\n",
      "Reynier Banos\n",
      "REYNIER BANOS\n"
     ]
    }
   ],
   "source": [
    "texto = \"\"\"\"reyr4@cuba.com vengo a informarte\n",
    "que este es mi correo y\n",
    "que puedes escribirme ahi\"\"\"\n",
    "cadena = \"reynier banos\"\n",
    "\n",
    "print(texto.capitalize())       # Colocando la primera letra con mayuscula\n",
    "print(texto.casefold())         # Convierte toda la cadena en minuscula\n",
    "print(texto.count(\"r\"))         # Cantidad de veces que aparece un caracter en la cadena\n",
    "print(texto.endswith(\"ey\"))     # Pregunta si el texto finaliza de una manera \n",
    "print(texto.isalnum())          # Verifica si el texto esta compuesto por caracteres alfanumericos, letras con acento o ç NO\n",
    "print(texto.isalpha())          # Verifica si el texto esta compuesto solo por letras\n",
    "print(texto.isnumeric())        # Verifica si el texto esta compuesto solo por numeros\n",
    "print(texto.replace(\".\",\",\"))   # Sustituye un cacater por otro en la cadena de texto\n",
    "print(texto.split(\"@\"))         # Separa el texto en el separador colocando una coma en el medio \n",
    "print(texto.splitlines())       # Separa el txto de acuerdo con los enter del texto\n",
    "print(cadena.startswith(\"Rey\")) # Pregunta si el texto comienza de alguna manera\n",
    "print(cadena.strip())           # Retira caracteres indeseados de los textos, retira espacios en el incio y el final\n",
    "print(cadena.title())           # Coloca mayusculas en la primera letra de cada palabra del texto\n",
    "print(cadena.upper())           # Coloca todas las letras en maysculas\n"
   ]
  }
 ],
 "metadata": {
  "kernelspec": {
   "display_name": "Python 3",
   "language": "python",
   "name": "python3"
  },
  "language_info": {
   "codemirror_mode": {
    "name": "ipython",
    "version": 3
   },
   "file_extension": ".py",
   "mimetype": "text/x-python",
   "name": "python",
   "nbconvert_exporter": "python",
   "pygments_lexer": "ipython3",
   "version": "3.8.8"
  }
 },
 "nbformat": 4,
 "nbformat_minor": 5
}
