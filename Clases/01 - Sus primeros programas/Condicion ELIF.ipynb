{
 "cells": [
  {
   "cell_type": "code",
   "execution_count": 8,
   "id": "da02b8c6",
   "metadata": {},
   "outputs": [
    {
     "name": "stdout",
     "output_type": "stream",
     "text": [
      "Gano 405.0 de bono\n"
     ]
    }
   ],
   "source": [
    "meta = 2000\n",
    "ventas = 4500\n",
    "\n",
    "if ventas < meta:\n",
    "    print (\"No gano comision\")\n",
    "elif ventas > (meta * 2):\n",
    "    bono = 0.09 *ventas\n",
    "    print(\"Gano {} de bono\".format(bono))\n",
    "else: \n",
    "    bono = 0.06 * ventas\n",
    "    print(\"Gano {} de bono\".format(bono))\n",
    "    "
   ]
  }
 ],
 "metadata": {
  "kernelspec": {
   "display_name": "Python 3",
   "language": "python",
   "name": "python3"
  },
  "language_info": {
   "codemirror_mode": {
    "name": "ipython",
    "version": 3
   },
   "file_extension": ".py",
   "mimetype": "text/x-python",
   "name": "python",
   "nbconvert_exporter": "python",
   "pygments_lexer": "ipython3",
   "version": "3.8.8"
  }
 },
 "nbformat": 4,
 "nbformat_minor": 5
}
