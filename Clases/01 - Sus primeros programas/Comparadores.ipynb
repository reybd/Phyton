{
 "cells": [
  {
   "cell_type": "code",
   "execution_count": null,
   "id": "47b4fe53",
   "metadata": {},
   "outputs": [],
   "source": [
    "==  igual\n",
    "!=  diferente\n",
    ">   mayor que\n",
    "<   menor que\n",
    "in  texto existe dentro de otro texto\n",
    "not verifica lo contrario de la comparacion\n",
    "\n",
    "\n",
    "Nota: Si en alguna comparacion ud no desea hacer nada , puede escribir simplemente: pass"
   ]
  }
 ],
 "metadata": {
  "kernelspec": {
   "display_name": "Python 3",
   "language": "python",
   "name": "python3"
  },
  "language_info": {
   "codemirror_mode": {
    "name": "ipython",
    "version": 3
   },
   "file_extension": ".py",
   "mimetype": "text/x-python",
   "name": "python",
   "nbconvert_exporter": "python",
   "pygments_lexer": "ipython3",
   "version": "3.8.8"
  }
 },
 "nbformat": 4,
 "nbformat_minor": 5
}
