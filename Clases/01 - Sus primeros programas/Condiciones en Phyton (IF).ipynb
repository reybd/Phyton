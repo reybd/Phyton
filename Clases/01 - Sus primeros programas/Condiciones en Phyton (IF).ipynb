{
 "cells": [
  {
   "cell_type": "code",
   "execution_count": 2,
   "id": "a567b3a2",
   "metadata": {},
   "outputs": [
    {
     "name": "stdout",
     "output_type": "stream",
     "text": [
      "No se cumplio la meta de vender 50000 en el mes, solo se vendieron 6300\n"
     ]
    }
   ],
   "source": [
    "meta = 50000\n",
    "can_vendidas = 6300\n",
    "\n",
    "if can_vendidas > meta:\n",
    "    print(\"Cumplimos la meta de ventas de Iphone, vendimos {} unidades\" .format(can_vendidas))\n",
    "    \n",
    "else:\n",
    "    print(\"No se cumplio la meta de vender 50000 en el mes,\" + \" \" + \"solo se vendieron {}\" .format(can_vendidas))"
   ]
  }
 ],
 "metadata": {
  "kernelspec": {
   "display_name": "Python 3",
   "language": "python",
   "name": "python3"
  },
  "language_info": {
   "codemirror_mode": {
    "name": "ipython",
    "version": 3
   },
   "file_extension": ".py",
   "mimetype": "text/x-python",
   "name": "python",
   "nbconvert_exporter": "python",
   "pygments_lexer": "ipython3",
   "version": "3.8.8"
  }
 },
 "nbformat": 4,
 "nbformat_minor": 5
}
