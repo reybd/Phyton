{
 "cells": [
  {
   "cell_type": "code",
   "execution_count": 8,
   "id": "bc0d3ad1",
   "metadata": {},
   "outputs": [
    {
     "name": "stdout",
     "output_type": "stream",
     "text": [
      "A taxa foi de 0.04\n"
     ]
    }
   ],
   "source": [
    "meta = 0.5\n",
    "taxa = 0\n",
    "rendimento = 0.80\n",
    "\n",
    "if rendimento > meta:\n",
    "    if rendimento > 0.20:\n",
    "        taxa = 0.04\n",
    "        print (\"A taxa foi de {}\".format(taxa))\n",
    "    else:\n",
    "        taxa = 0.02\n",
    "        print (\"A taxa foi de {}\".format(taxa))\n",
    "else:\n",
    "    taxa = 0\n",
    "    print(\"A taxa foi de {}\".format(taxa))"
   ]
  }
 ],
 "metadata": {
  "kernelspec": {
   "display_name": "Python 3",
   "language": "python",
   "name": "python3"
  },
  "language_info": {
   "codemirror_mode": {
    "name": "ipython",
    "version": 3
   },
   "file_extension": ".py",
   "mimetype": "text/x-python",
   "name": "python",
   "nbconvert_exporter": "python",
   "pygments_lexer": "ipython3",
   "version": "3.8.8"
  }
 },
 "nbformat": 4,
 "nbformat_minor": 5
}
