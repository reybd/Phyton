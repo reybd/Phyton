{
 "cells": [
  {
   "cell_type": "code",
   "execution_count": 13,
   "id": "f543f710",
   "metadata": {},
   "outputs": [
    {
     "name": "stdout",
     "output_type": "stream",
     "text": [
      "O funcionario 1 ganhou 100.0 de bonus\n",
      "O funcionario 2 ganhou 0 de bonus\n",
      "O funcionario 3 ganhou 280.0 de bonus\n",
      "O funcionario 3 ganhou 420.0 de bonus\n",
      "O funcionario 2 ganhou 0 de bonus\n"
     ]
    }
   ],
   "source": [
    "meta = 1000\n",
    "funcionario1 = 1000\n",
    "funcionario2 = 770\n",
    "funcionario3 = 2800\n",
    "\n",
    "#################################################################################\n",
    "if funcionario1 >= meta:\n",
    "    print('O funcionario 1 ganhou {} de bonus'.format(funcionario1*0.1))\n",
    "else:\n",
    "    print(\"O funcionario 1 ganhou {} de bonus\".format(0))\n",
    "#################################################################################  \n",
    "if funcionario2 >= meta:\n",
    "    print(\"O funcionario 2 ganhou {} de bonus\".format(funcionario2*0.1))\n",
    "else:\n",
    "    print(\"O funcionario 2 ganhou {} de bonus\".format(0))\n",
    "#################################################################################   \n",
    "if funcionario3 >= meta:\n",
    "    bonus = funcionario3*0.1\n",
    "else:\n",
    "    bonus = 0\n",
    "print(\"O funcionario 3 ganhou {} de bonus\".format(bonus))    \n",
    "\n",
    "\n",
    "################################# Calculo de bonus com uma nova regra  ####################################\n",
    "\n",
    "if funcionario3 >= meta:\n",
    "    if funcionario3 >= 2000:\n",
    "        bonus = 0.15*funcionario3\n",
    "    else:\n",
    "        bonus = 0.1*funcionario3\n",
    "else:\n",
    "    bonus = 0\n",
    "    \n",
    "print(\"O funcionario 3 ganhou {} de bonus\".format(bonus))\n",
    "\n",
    "################################# Utilizando IF e ELIF #########################################################\n",
    "\n",
    "if funcionario2 >= 2000:\n",
    "    bonus = 0.15*funcionario2\n",
    "elif funcionario2 >= 1000:\n",
    "    bonus = 0.1*funcionario2\n",
    "    \n",
    "else:\n",
    "    bonus = 0\n",
    "    \n",
    "print(\"O funcionario 2 ganhou {} de bonus\".format(bonus)) \n",
    "\n",
    "################################################################################################################"
   ]
  }
 ],
 "metadata": {
  "kernelspec": {
   "display_name": "Python 3",
   "language": "python",
   "name": "python3"
  },
  "language_info": {
   "codemirror_mode": {
    "name": "ipython",
    "version": 3
   },
   "file_extension": ".py",
   "mimetype": "text/x-python",
   "name": "python",
   "nbconvert_exporter": "python",
   "pygments_lexer": "ipython3",
   "version": "3.8.8"
  }
 },
 "nbformat": 4,
 "nbformat_minor": 5
}
