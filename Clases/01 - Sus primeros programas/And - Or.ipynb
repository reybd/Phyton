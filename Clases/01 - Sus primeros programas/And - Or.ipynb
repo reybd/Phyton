{
 "cells": [
  {
   "cell_type": "code",
   "execution_count": 15,
   "id": "f336474d",
   "metadata": {},
   "outputs": [
    {
     "name": "stdout",
     "output_type": "stream",
     "text": [
      "El bono del funcionario fue de: 450.0\n"
     ]
    }
   ],
   "source": [
    "meta_funcionario = 10000\n",
    "meta_empresa = 20000\n",
    "vendas_funcionario = 15000\n",
    "vendas_loja = 25000\n",
    "\n",
    "if vendas_funcionario > meta_funcionario and vendas_loja > meta_empresa:\n",
    "    bonus = 0.03 * vendas_funcionario\n",
    "    print(\"El bono del funcionario fue de: {}\".format(bonus)) \n",
    "    \n",
    "else:    \n",
    "    print(\"El funcionario no gano bonus\")"
   ]
  },
  {
   "cell_type": "code",
   "execution_count": 23,
   "id": "43d11ecf",
   "metadata": {},
   "outputs": [
    {
     "name": "stdout",
     "output_type": "stream",
     "text": [
      "El funcionario no gano bonus\n"
     ]
    }
   ],
   "source": [
    "nota_funionario = 7\n",
    "meta_nota =9\n",
    "\n",
    "if nota_funionario >= meta_nota and (vendas_funcionario > meta_funcionario and vendas_loja > meta_empresa):\n",
    "    bonus = 0.03 * vendas_funcionario\n",
    "    print(\"El bonus del funcionario fue de: {}\".format(bonus))\n",
    "    \n",
    "else:\n",
    "    print(\"El funcionario no gano bonus\")"
   ]
  }
 ],
 "metadata": {
  "kernelspec": {
   "display_name": "Python 3",
   "language": "python",
   "name": "python3"
  },
  "language_info": {
   "codemirror_mode": {
    "name": "ipython",
    "version": 3
   },
   "file_extension": ".py",
   "mimetype": "text/x-python",
   "name": "python",
   "nbconvert_exporter": "python",
   "pygments_lexer": "ipython3",
   "version": "3.8.8"
  }
 },
 "nbformat": 4,
 "nbformat_minor": 5
}
