{
 "cells": [
  {
   "cell_type": "code",
   "execution_count": 4,
   "id": "9fac62fd",
   "metadata": {},
   "outputs": [
    {
     "name": "stdout",
     "output_type": "stream",
     "text": [
      "La factura de la tienda es: 1000\n"
     ]
    }
   ],
   "source": [
    "factura = 1000\n",
    "\n",
    "print (\"La factura de la tienda es: \" + str(factura))"
   ]
  },
  {
   "cell_type": "code",
   "execution_count": 7,
   "id": "7894fdfd",
   "metadata": {},
   "outputs": [
    {
     "name": "stdout",
     "output_type": "stream",
     "text": [
      "La factura de la tienda fue: 2000\n"
     ]
    }
   ],
   "source": [
    "factura = 2000\n",
    "costo = 500\n",
    "lucro = factura - costo\n",
    "\n",
    "print ('La factura de la tienda fue: {}' .format(factura))"
   ]
  }
 ],
 "metadata": {
  "kernelspec": {
   "display_name": "Python 3 (ipykernel)",
   "language": "python",
   "name": "python3"
  },
  "language_info": {
   "codemirror_mode": {
    "name": "ipython",
    "version": 3
   },
   "file_extension": ".py",
   "mimetype": "text/x-python",
   "name": "python",
   "nbconvert_exporter": "python",
   "pygments_lexer": "ipython3",
   "version": "3.9.7"
  }
 },
 "nbformat": 4,
 "nbformat_minor": 5
}
