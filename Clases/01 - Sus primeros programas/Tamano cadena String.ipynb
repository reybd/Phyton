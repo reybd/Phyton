{
 "cells": [
  {
   "cell_type": "code",
   "execution_count": 7,
   "id": "f3b19784",
   "metadata": {},
   "outputs": [
    {
     "name": "stdout",
     "output_type": "stream",
     "text": [
      "17\n",
      "19\n",
      "@\n",
      "g\n",
      "rbd5485\n",
      "rbd54\n",
      "85@gmail.com\n",
      "rbd5485@gmail.com\n",
      "85@g\n",
      "Tamano de email: 17caracteres\n",
      "Primera letra del email: r\n",
      "Ultima letra de email: m\n",
      "Servidor SMTP: gmail.com\n"
     ]
    }
   ],
   "source": [
    "email = \"rbd5485@gmail.com\"\n",
    "nome = \"Reynier Banos Dussu\"\n",
    "\n",
    "print(len(email))\n",
    "print(len(nome))\n",
    "print(email[7])\n",
    "\n",
    "print(email[-9])# devuelve la letra en la posicion -9\n",
    "print(email[:-10])# devuelve toda la cadena hasta antes de la posicion -10\n",
    "print(email[:5]) # Devuelve hasta antes la posicion 5\n",
    "print(email[5:]) # Devuelve despues de la posicion 5\n",
    "print(email[:]) # Devuelve el texto completo\n",
    "print(email[5:9]) # Devuelve desde el 5 hasta el 9\n",
    "\n",
    "\n",
    "####################################################################################\n",
    "\n",
    "print(\"Tamano de email: \" + str(len(email)) + \"caracteres\")\n",
    "print(\"Primera letra del email: \" + email[0])\n",
    "print(\"Ultima letra de email: \" + email[-1])\n",
    "print(\"Servidor SMTP: \" + email[8:])"
   ]
  }
 ],
 "metadata": {
  "kernelspec": {
   "display_name": "Python 3",
   "language": "python",
   "name": "python3"
  },
  "language_info": {
   "codemirror_mode": {
    "name": "ipython",
    "version": 3
   },
   "file_extension": ".py",
   "mimetype": "text/x-python",
   "name": "python",
   "nbconvert_exporter": "python",
   "pygments_lexer": "ipython3",
   "version": "3.8.8"
  }
 },
 "nbformat": 4,
 "nbformat_minor": 5
}
