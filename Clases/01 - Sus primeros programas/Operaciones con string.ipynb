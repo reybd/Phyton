{
 "cells": [
  {
   "cell_type": "markdown",
   "id": "d6c13432",
   "metadata": {},
   "source": [
    "OPERACIONES CON STRING\n",
    "\n",
    "str -> transforma numero en string\n",
    "in -> verifica si un texto esta contenido dentro de otro\n",
    "operador + -> concatenar string\n",
    "format e {} -> sustituye valores\n",
    "%s -> sustituye texto\n",
    "%d -> sustituye numeros decimales"
   ]
  },
  {
   "cell_type": "code",
   "execution_count": 6,
   "id": "4459669c",
   "metadata": {},
   "outputs": [],
   "source": [
    "facturacion = 1000\n",
    "costo = 500\n",
    "lucro = facturacion - costo"
   ]
  },
  {
   "cell_type": "code",
   "execution_count": 7,
   "id": "05c4a491",
   "metadata": {},
   "outputs": [
    {
     "name": "stdout",
     "output_type": "stream",
     "text": [
      "La facturacion del mercado fue: 1000\n",
      "La facturacion del mercado fue: 1000. El costo fue de: 500 y el lucro fue de: 500 \n",
      "La facturacion fue de: 1000. El costo fue de: 500 y el lucro fue de: 500\n",
      "True\n",
      "False\n"
     ]
    }
   ],
   "source": [
    "print(\"La facturacion del mercado fue: \" + str(facturacion)) # Utilizando (str)\n",
    "\n",
    "print(\"La facturacion del mercado fue: {0}. El costo fue de: {1} y el lucro fue de: {2} \" .format(facturacion,costo,lucro)) # Utilizando {}.format()\n",
    "\n",
    "print(\"La facturacion fue de: %d. El costo fue de: %d y el lucro fue de: %d\" % (facturacion,costo,lucro)) # Utilizando %d %s\n",
    "\n",
    "print(\"@\" in \"rbd5485@gmail.com\") # Utilizando in para verificar si un caracter esta dentro de una cadena\n",
    "print(\"@\" in \"rbd5485.gmail.com\")\n"
   ]
  }
 ],
 "metadata": {
  "kernelspec": {
   "display_name": "Python 3 (ipykernel)",
   "language": "python",
   "name": "python3"
  },
  "language_info": {
   "codemirror_mode": {
    "name": "ipython",
    "version": 3
   },
   "file_extension": ".py",
   "mimetype": "text/x-python",
   "name": "python",
   "nbconvert_exporter": "python",
   "pygments_lexer": "ipython3",
   "version": "3.9.7"
  }
 },
 "nbformat": 4,
 "nbformat_minor": 5
}
