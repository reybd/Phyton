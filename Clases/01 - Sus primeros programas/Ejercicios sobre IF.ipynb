{
 "cells": [
  {
   "cell_type": "code",
   "execution_count": 5,
   "id": "0a485d01",
   "metadata": {},
   "outputs": [
    {
     "name": "stdout",
     "output_type": "stream",
     "text": [
      "Introduzca el nombre del produto: Cervejas\n",
      "Introduzca la categoria del producto: Bebidas\n",
      "Introduzca la cantidad de este producto en estoque al final del dia: 20\n"
     ]
    }
   ],
   "source": [
    "estoque_minimo_alimentos = 50\n",
    "estoque_minimo_bebidas = 75\n",
    "estoque_minimo_limpeza = 30\n",
    "\n",
    "nombre_produto = input(\"Introduzca el nombre del produto: \")\n",
    "categoria = input(\"Introduzca la categoria del producto: \")\n",
    "cantidad = int(input(\"Introduzca la cantidad de este producto en estoque al final del dia: \"))\n",
    "\n",
    "if nombre_produto and categoria and cantidad:\n",
    "    if categoria == \"alimentos\":\n",
    "        if cantidad < estoque_minimo_alimentos:\n",
    "            print(\"Solcitar {} al equipo de compras, solo tenemos {} unidades en estoque \".format(nombre_produto, cantidad))\n",
    "    elif categoria == \"bebidas\":\n",
    "        if cantidad < estoque_minimo_bebidas:\n",
    "            print(\"Solcitar {} al equipo de compras, solo tenemos {} unidades en estoque \".format(nombre_produto, cantidad))\n",
    "    elif categoria == \"limpeza\":\n",
    "        if cantidad < estoque_minimo_limpeza:\n",
    "            print(\"Solcitar {} al equipo de compras, solo tenemos {} unidades en estoque \".format(nombre_produto, cantidad))        \n",
    "else:\n",
    "    print(\"Por favor introduzca el nombre del producto, la categoria y la cantidad\")\n",
    "    \n",
    "  \n",
    "    \n",
    "\n"
   ]
  }
 ],
 "metadata": {
  "kernelspec": {
   "display_name": "Python 3",
   "language": "python",
   "name": "python3"
  },
  "language_info": {
   "codemirror_mode": {
    "name": "ipython",
    "version": 3
   },
   "file_extension": ".py",
   "mimetype": "text/x-python",
   "name": "python",
   "nbconvert_exporter": "python",
   "pygments_lexer": "ipython3",
   "version": "3.8.8"
  }
 },
 "nbformat": 4,
 "nbformat_minor": 5
}
