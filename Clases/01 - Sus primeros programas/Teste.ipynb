{
 "cells": [
  {
   "cell_type": "markdown",
   "id": "24a9cbee",
   "metadata": {},
   "source": [
    "Mi primer ejemplo en Python"
   ]
  },
  {
   "cell_type": "code",
   "execution_count": 8,
   "id": "b6d7017a",
   "metadata": {},
   "outputs": [
    {
     "name": "stdout",
     "output_type": "stream",
     "text": [
      "Mi escalafon en el Pre fue de:\n",
      "99.93666666666667\n"
     ]
    }
   ],
   "source": [
    "print(\"Mi escalafon en el Pre fue de:\")\n",
    "print((99.81+100+100)/3)"
   ]
  },
  {
   "cell_type": "markdown",
   "id": "846c7691",
   "metadata": {},
   "source": [
    "OPERACION CON TEXTO"
   ]
  },
  {
   "cell_type": "code",
   "execution_count": 13,
   "id": "8c1227f2",
   "metadata": {},
   "outputs": [
    {
     "name": "stdout",
     "output_type": "stream",
     "text": [
      "Reynier Banos Dussu\n"
     ]
    }
   ],
   "source": [
    "print(\"Reynier\" + \" \" + \"Banos\" + \" \" + \"Dussu\")"
   ]
  },
  {
   "cell_type": "markdown",
   "id": "3c8a835e",
   "metadata": {},
   "source": [
    "VARIABLES"
   ]
  },
  {
   "cell_type": "code",
   "execution_count": 1,
   "id": "54521df8",
   "metadata": {},
   "outputs": [
    {
     "name": "stdout",
     "output_type": "stream",
     "text": [
      "2000\n",
      "Se vendio una cantidad total de: Tomate generando un valor de:2000\n"
     ]
    }
   ],
   "source": [
    "ventas = 2000\n",
    "producto = \"Tomate\"\n",
    "\n",
    "print(ventas)\n",
    "print(\"Se vendio una cantidad total de:\" + \" \" + producto + \" \" + \"generando un valor de:\" + str(ventas))"
   ]
  },
  {
   "cell_type": "markdown",
   "id": "e394dc50",
   "metadata": {},
   "source": [
    "INFORMACIONES DE USUARIO"
   ]
  },
  {
   "cell_type": "code",
   "execution_count": 1,
   "id": "f617c91e",
   "metadata": {},
   "outputs": [
    {
     "name": "stdout",
     "output_type": "stream",
     "text": [
      "Como te llamas? Rey\n",
      "Diga sus apellidosBanos Dussu\n",
      "Rey  Banos Dussu\n"
     ]
    }
   ],
   "source": [
    "nombre = input(\"Como te llamas? \")\n",
    "apellidos = input (\"Diga sus apellidos\")\n",
    "print (nombre + \"  \"+ apellidos)"
   ]
  },
  {
   "cell_type": "code",
   "execution_count": null,
   "id": "845769df",
   "metadata": {},
   "outputs": [],
   "source": []
  }
 ],
 "metadata": {
  "kernelspec": {
   "display_name": "Python 3 (ipykernel)",
   "language": "python",
   "name": "python3"
  },
  "language_info": {
   "codemirror_mode": {
    "name": "ipython",
    "version": 3
   },
   "file_extension": ".py",
   "mimetype": "text/x-python",
   "name": "python",
   "nbconvert_exporter": "python",
   "pygments_lexer": "ipython3",
   "version": "3.9.7"
  }
 },
 "nbformat": 4,
 "nbformat_minor": 5
}
