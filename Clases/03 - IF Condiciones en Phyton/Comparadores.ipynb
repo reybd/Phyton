{
 "cells": [
  {
   "cell_type": "markdown",
   "id": "082d8987",
   "metadata": {},
   "source": [
    "Comparadores"
   ]
  },
  {
   "cell_type": "markdown",
   "id": "2bfe7fed",
   "metadata": {},
   "source": [
    "== igual\n",
    "!= diferente\n",
    ">  mayor que\n",
    "<  menor que\n",
    ">= mayor o igual\n",
    "<= menor o igual\n",
    "in (texto existe dentro de otro texto)\n",
    "not (verifica o contrario da comparação)\n",
    "\n",
    "Obs: Se em alguma condição voce não quiser fazer nada, voce pode simplesmente escrever: pass"
   ]
  },
  {
   "cell_type": "code",
   "execution_count": 3,
   "id": "37d683a8",
   "metadata": {},
   "outputs": [
    {
     "name": "stdout",
     "output_type": "stream",
     "text": [
      "Ejemplo 1\n",
      "Os faturamentos são diferentes\n"
     ]
    }
   ],
   "source": [
    "faturamento1 = 2500\n",
    "faturamento2 = 2200\n",
    "email = \"rbd5485@gmail.com\"\n",
    "\n",
    "print(\"Ejemplo 1\")\n",
    "if faturamento1 == faturamento2:\n",
    "    print(\"Os faturamentos são iguais\")\n",
    "else:\n",
    "    print(\"Os faturamentos são diferentes\")\n"
   ]
  },
  {
   "cell_type": "code",
   "execution_count": 5,
   "id": "414dbe91",
   "metadata": {},
   "outputs": [
    {
     "name": "stdout",
     "output_type": "stream",
     "text": [
      "Ejemplo 2\n",
      "O email coincide\n"
     ]
    }
   ],
   "source": [
    "print(\"Ejemplo 2\")\n",
    "if email != \"rbd5485@gmail.com\":\n",
    "    print(\"O email é diferente\")\n",
    "else:\n",
    "    print(\"O email coincide\")"
   ]
  },
  {
   "cell_type": "code",
   "execution_count": 13,
   "id": "40b11369",
   "metadata": {},
   "outputs": [
    {
     "name": "stdout",
     "output_type": "stream",
     "text": [
      "Ejemplo 3\n",
      "Por favor insira o seu emai: dudu@segware.com\n",
      "Email valido\n"
     ]
    }
   ],
   "source": [
    "print(\"Ejemplo 3\")\n",
    "email_usuario = input(\"Por favor insira o seu emai: \")\n",
    "\n",
    "if not \"@\" in email_usuario:\n",
    "    print(\"ERROR: No colocó el simbolo de @, por favor verifique\")\n",
    "else:\n",
    "    print(\"Email valido\")\n",
    "    #pass - Seria solo para pasar si no quiero que haga mas nada"
   ]
  }
 ],
 "metadata": {
  "kernelspec": {
   "display_name": "Python 3 (ipykernel)",
   "language": "python",
   "name": "python3"
  },
  "language_info": {
   "codemirror_mode": {
    "name": "ipython",
    "version": 3
   },
   "file_extension": ".py",
   "mimetype": "text/x-python",
   "name": "python",
   "nbconvert_exporter": "python",
   "pygments_lexer": "ipython3",
   "version": "3.9.7"
  }
 },
 "nbformat": 4,
 "nbformat_minor": 5
}
