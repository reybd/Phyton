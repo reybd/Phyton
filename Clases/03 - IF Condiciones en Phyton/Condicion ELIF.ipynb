{
 "cells": [
  {
   "cell_type": "markdown",
   "id": "4b6ab3f1",
   "metadata": {},
   "source": [
    "Exemplo:\n",
    "\n",
    "Criar um programa para analisar o bonus dos funcionarios da empresa:\n",
    "Para os cargos de vendedores, a regra do bonus é de acordo com a meta de vendas da pessoa:\n",
    "\n",
    "- Se vendeu abaixo da meta dela, não ganha bonus.\n",
    "- Se vedeu acima da meta, ganha bonus de 3% da venda.\n",
    "- Se vendeu mais do que o dobro da meta, ganha 7% das vendas.\n",
    "\n",
    "Vamos criar um programa para avaliar uma pessoa que tinha como meta 20000 reais e calcular o bonus dela de acordo com o valor das vendas que elea tiver.\n"
   ]
  },
  {
   "cell_type": "code",
   "execution_count": 16,
   "id": "1af19037",
   "metadata": {},
   "outputs": [
    {
     "name": "stdout",
     "output_type": "stream",
     "text": [
      "O bonus para o vendedor é: 4760.0\n"
     ]
    }
   ],
   "source": [
    "meta = 20000\n",
    "bonus = 0\n",
    "vendas = 68000\n",
    "\n",
    "if vendas > 2*meta:\n",
    "    bonus = 0.07*vendas\n",
    "    print(\"O bonus para o vendedor é: {}\" .format(bonus))\n",
    "elif vendas > meta:\n",
    "    bonus = 0.03*vendas\n",
    "    print(\"O bonus para o vendedor é: {}\" .format(bonus))\n",
    "else:\n",
    "    bonus = 0\n",
    "    print(\"O bonus é 0. Infelizmente não ganha bonus, pois não bateu a meta. Só vendeu: {}\" .format(vendas))"
   ]
  }
 ],
 "metadata": {
  "kernelspec": {
   "display_name": "Python 3 (ipykernel)",
   "language": "python",
   "name": "python3"
  },
  "language_info": {
   "codemirror_mode": {
    "name": "ipython",
    "version": 3
   },
   "file_extension": ".py",
   "mimetype": "text/x-python",
   "name": "python",
   "nbconvert_exporter": "python",
   "pygments_lexer": "ipython3",
   "version": "3.9.7"
  }
 },
 "nbformat": 4,
 "nbformat_minor": 5
}
