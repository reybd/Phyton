{
 "cells": [
  {
   "cell_type": "markdown",
   "id": "8136df96",
   "metadata": {},
   "source": [
    "En las comparaciones contraintuitivas no existe metodos de comparacion convencional. Aqui en este caso vamos a validar si el usuario escribio o no el dato en el campo que lleva. Es como si fuera un tratamiento de errores."
   ]
  },
  {
   "cell_type": "code",
   "execution_count": 9,
   "id": "24413a6d",
   "metadata": {},
   "outputs": [
    {
     "name": "stdout",
     "output_type": "stream",
     "text": [
      "Por favor introduzca el faturamento da loja no mes:\n",
      "Por favor introduzca el custo da loja no mes:5000\n",
      "Por favor revise los valores introducidos, esta faltando alguno de los datos para introducir\n"
     ]
    }
   ],
   "source": [
    "faturamento = input(\"Por favor introduzca el faturamento da loja no mes:\")\n",
    "custo = input(\"Por favor introduzca el custo da loja no mes:\")\n",
    "\n",
    "if faturamento and custo:\n",
    "    lucro = int(faturamento) - int(custo)\n",
    "    print(\"O lucro da loja foi de: {}\" .format(lucro)) \n",
    "else:   \n",
    "    print(\"Por favor revise los valores introducidos, esta faltando alguno de los datos para introducir\")\n",
    "    "
   ]
  }
 ],
 "metadata": {
  "kernelspec": {
   "display_name": "Python 3 (ipykernel)",
   "language": "python",
   "name": "python3"
  },
  "language_info": {
   "codemirror_mode": {
    "name": "ipython",
    "version": 3
   },
   "file_extension": ".py",
   "mimetype": "text/x-python",
   "name": "python",
   "nbconvert_exporter": "python",
   "pygments_lexer": "ipython3",
   "version": "3.9.7"
  }
 },
 "nbformat": 4,
 "nbformat_minor": 5
}
