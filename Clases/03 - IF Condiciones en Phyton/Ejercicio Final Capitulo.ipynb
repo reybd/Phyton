{
 "cells": [
  {
   "cell_type": "markdown",
   "id": "2c5f7d2f",
   "metadata": {},
   "source": [
    "EJERCICIOS\n",
    "\n",
    "1. Criando um mini sistema de controle de estoque\n",
    "\n",
    " - Crie um sistema para ser usado pelo time de controle de estoque de um centro de distribução.\n",
    " - Imagine que ao fim de todo dia, o time conta quantas unidades de produto existem em estoque. Se tivermos um estoque abaixo do estoque permitido para aquela categoria do produto, o time deve ser avisado (print) para fazer um novo pedido daquele produto.\n",
    " - Cada categoria de produto tem um estoque minimo diferente, segundo a regra abaixo:\n",
    "   alimentos -> Estoque minimo: 50\n",
    "   bebidas -> Estoque minimo: 75\n",
    "   limpieza -> Estoque minimo: 30\n",
    "\n",
    "Para isso vamos criar um programa que pede 3 imputs do usuario: nome produto, categoria e quantidade atual em estoque.\n",
    "\n",
    "Se o produto tiver abaixo do estoque minimo da categoria dele, o programa deve printar a mensagem \"Solicitar {produto} a equipe de compras, temos apenas {unidades} em estoque\"\n",
    "\n",
    "Exemplo: Se o usuario preenche os inputs com: bebidas, dolly, 90, o programa não deve exhibir nenhuma mensagem. Agora se o usuario preenche os inputs com: bebidas, guarana, 60, o programa deve exhibir a mensagem \"Solicitar guarana a equipe de compras, temos apenas 60 unidades em estoque.\"\n",
    "\n",
    "Obs1: lembre de usar o int() para transformar o numero inserido pelo usuario no input de string para int.\n",
    "Obs2: Caso o usuario não preencha alguma das 3 informações, o programa deve exibir uma mensagem para avisa-lo de preencher corretamente.\n",
    "   "
   ]
  },
  {
   "cell_type": "code",
   "execution_count": 31,
   "id": "de3c6e5e",
   "metadata": {},
   "outputs": [
    {
     "name": "stdout",
     "output_type": "stream",
     "text": [
      "Por favor insira o nome do produto: Coca\n",
      "Por favor insira a categoria do produto: bebidas\n",
      "Por favor insira a quantidade atual em estoque: 65\n",
      "Solicitar Coca eo equipe de compras, apenas temos 65 em estoque\n"
     ]
    }
   ],
   "source": [
    "nome_produto = input(\"Por favor insira o nome do produto: \")\n",
    "categoria_produto = input (\"Por favor insira a categoria do produto: \")\n",
    "quantidade_estoque =input(\"Por favor insira a quantidade atual em estoque: \")\n",
    "\n",
    "if nome_produto and categoria_produto and quantidade_estoque:\n",
    "    \n",
    "    quantidade_estoque = int(quantidade_estoque) # Crear la entrada como entero\n",
    "    \n",
    "    if categoria_produto == \"bebidas\":\n",
    "        if quantidade_estoque < 75:\n",
    "            print(\"Solicitar {} eo equipe de compras, apenas temos {} em estoque\" .format(nome_produto, quantidade_estoque))\n",
    "    \n",
    "    elif categoria_produto == \"alimentos\":\n",
    "        if quantidade_estoque < 50:\n",
    "            print(\"Solicitar {} eo equipe de compras, apenas temos {} em estoque\" .format(nome_produto, quantidade_estoque))\n",
    "    \n",
    "    else:\n",
    "        if quantidade_estoque < 30:\n",
    "            print(\"Solicitar {} eo equipe de compras, apenas temos {} em estoque\" .format(nome_produto, quantidade_estoque))\n",
    "    \n",
    "    \n",
    "else:\n",
    "    print(\"Por favor preencha os dados completos, esta faltando algum dado\")\n",
    "\n",
    "    \n",
    "\n",
    "\n",
    "\n",
    "\n"
   ]
  },
  {
   "cell_type": "code",
   "execution_count": 36,
   "id": "0003947f",
   "metadata": {},
   "outputs": [
    {
     "name": "stdout",
     "output_type": "stream",
     "text": [
      "Por favor insira o nome do produto: Coca\n",
      "Por favor insira a categoria do produto: Albury\n",
      "Por favor insira a quantidade atual em estoque: 23\n"
     ]
    }
   ],
   "source": [
    "nome_produto = input(\"Por favor insira o nome do produto: \")\n",
    "categoria_produto = input (\"Por favor insira a categoria do produto: \")\n",
    "quantidade_estoque =input(\"Por favor insira a quantidade atual em estoque: \")\n",
    "\n",
    "if nome_produto and categoria_produto and quantidade_estoque:\n",
    "    \n",
    "    quantidade_estoque = int(quantidade_estoque) # Crear la entrada como entero\n",
    "    \n",
    "    if categoria_produto == \"bebidas\":\n",
    "        if quantidade_estoque < 75:\n",
    "            print(\"Solicitar {} a equipe de compras, apenas temos {} em estoque\" .format(nome_produto, quantidade_estoque))\n",
    "    \n",
    "    if categoria_produto == \"alimentos\":\n",
    "        if quantidade_estoque < 50:\n",
    "            print(\"Solicitar {} a equipe de compras, apenas temos {} em estoque\" .format(nome_produto, quantidade_estoque))\n",
    "    \n",
    "    if categoria_produto == \"limpieza\":\n",
    "        if quantidade_estoque < 30:\n",
    "            print(\"Solicitar {} a equipe de compras, apenas temos {} em estoque\" .format(nome_produto, quantidade_estoque))\n",
    "    \n",
    "    \n",
    "else:\n",
    "    print(\"Por favor preencha os dados completos, esta faltando algum dado\")\n"
   ]
  }
 ],
 "metadata": {
  "kernelspec": {
   "display_name": "Python 3 (ipykernel)",
   "language": "python",
   "name": "python3"
  },
  "language_info": {
   "codemirror_mode": {
    "name": "ipython",
    "version": 3
   },
   "file_extension": ".py",
   "mimetype": "text/x-python",
   "name": "python",
   "nbconvert_exporter": "python",
   "pygments_lexer": "ipython3",
   "version": "3.9.7"
  }
 },
 "nbformat": 4,
 "nbformat_minor": 5
}
