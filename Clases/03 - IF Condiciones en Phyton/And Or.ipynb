{
 "cells": [
  {
   "cell_type": "markdown",
   "id": "860992fc",
   "metadata": {},
   "source": [
    "Ejemplo\n",
    "\n",
    "Vamos voltar ao exemplo de calculo de metas de vendas dos funcionarios. Muitas empresas atribuem bonificação do salario dos funcionarios de acordo com o resultado do funcionario e tamben com o resultado da empresa como um todo.\n",
    "\n",
    "Nesse caso, a regra funciona da seguinte forma:\n",
    "\n",
    "- Se o funcionario vendeu mais do que a meta de vendas e a loja bateu a meta de vendas da loja, ofuncionario ganha 3% do que ele vendeu em forma de bonus.\n",
    "\n",
    "- Caso o funcionario tenha batido a metade vendas individual dele, mas a loja não tenha batido a meta de vendas da loja como um todo, o funcionario não ganha bonus."
   ]
  },
  {
   "cell_type": "code",
   "execution_count": 42,
   "id": "c1cb4d8c",
   "metadata": {},
   "outputs": [
    {
     "name": "stdout",
     "output_type": "stream",
     "text": [
      "El bonus del trabajador es: 750.0\n"
     ]
    }
   ],
   "source": [
    "meta_funcionario = 20000\n",
    "vendas_funcionario = 25000\n",
    "meta_loja = 50000\n",
    "vendas_loja = 55000\n",
    "bonus = 0\n",
    "\n",
    "if vendas_funcionario > meta_funcionario and vendas_loja > meta_loja:\n",
    "    bonus = 0.03 * vendas_funcionario\n",
    "else:\n",
    "    bonus = 0\n",
    "print(\"El bonus del trabajador es: {}\" .format(bonus))    "
   ]
  },
  {
   "cell_type": "markdown",
   "id": "107e5735",
   "metadata": {},
   "source": [
    "Outro exemplo\n",
    "\n",
    "Agora vamos levar essa analise mais a fundo.\n",
    "\n",
    "Nessa empresa, existe um outro caso tamben que garante que o funcionario ganhe um bonus, independemente das vendas que ele faz naquele mês\n",
    "\n",
    "Todo mês os direitores da empresa fazem uma avaliação qualitativade todos os funcionarios. Nessa avaliação os direitores dão uma nota de 0 a 10 para cada funcionario. Se a nota do funcionario for 9 ou 10, ele tamben ganha o bonus de 3% do valor das vendas (os bonus não são cumulativos)."
   ]
  },
  {
   "cell_type": "code",
   "execution_count": 41,
   "id": "0f08904b",
   "metadata": {},
   "outputs": [
    {
     "name": "stdout",
     "output_type": "stream",
     "text": [
      "O funcionario não ganhou bonus\n"
     ]
    }
   ],
   "source": [
    "meta_funcionario = 20000\n",
    "vendas_funcionario = 25000\n",
    "\n",
    "meta_loja = 50000\n",
    "vendas_loja = 45000\n",
    "\n",
    "meta_nota = 9\n",
    "nota_funcionario = 5\n",
    "bonus = 0\n",
    "\n",
    "if nota_funcionario >= meta_nota or (vendas_funcionario > meta_funcionario and vendas_loja > meta_loja): \n",
    "    bonus = 0.03 * vendas_funcionario\n",
    "    print(\"O funcionario ganhou um bonus de: {}\" .format(bonus)) \n",
    "\n",
    "else:\n",
    "    print(\"O funcionario não ganhou bonus\")\n",
    "\n"
   ]
  }
 ],
 "metadata": {
  "kernelspec": {
   "display_name": "Python 3 (ipykernel)",
   "language": "python",
   "name": "python3"
  },
  "language_info": {
   "codemirror_mode": {
    "name": "ipython",
    "version": 3
   },
   "file_extension": ".py",
   "mimetype": "text/x-python",
   "name": "python",
   "nbconvert_exporter": "python",
   "pygments_lexer": "ipython3",
   "version": "3.9.7"
  }
 },
 "nbformat": 4,
 "nbformat_minor": 5
}
