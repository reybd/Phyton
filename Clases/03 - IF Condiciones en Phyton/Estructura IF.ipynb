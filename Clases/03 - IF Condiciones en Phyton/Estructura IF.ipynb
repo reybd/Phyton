{
 "cells": [
  {
   "cell_type": "code",
   "execution_count": 11,
   "id": "d38c238a",
   "metadata": {},
   "outputs": [
    {
     "name": "stdout",
     "output_type": "stream",
     "text": [
      "Cumplimos la meta vendimos 55300 unidades \n"
     ]
    }
   ],
   "source": [
    "meta = 50000\n",
    "cantidad_vendida = 55300\n",
    "\n",
    "if cantidad_vendida > meta:\n",
    "    print(\"Cumplimos la meta vendimos {} unidades \" .format(cantidad_vendida))\n",
    "else:\n",
    "    print(\"Lo siento, no cumplieron la meta, no hay pago por resultado\")"
   ]
  },
  {
   "cell_type": "markdown",
   "id": "43840a0e",
   "metadata": {},
   "source": [
    "Ejemplo:\n",
    "\n",
    "Digamos que voce precisa criar um programa para um fundo de investimentos conseguir avaliar o resultado de uma carteira de ações e o quanto de taxa deverá ser pago:\n",
    "\n",
    "A regra desse fundo de investimento é:\n",
    "\n",
    "- O fundo se compromete a entregar no minimo 5% de retorno ao ano.\n",
    "- Caso o fundo não consiga entregar os 5% de retorno, ele não pode cobrar taxa dos seus investidores.\n",
    "- Caso o fundo consiga entregar mais de 5% de retorno, ele ira cobrar 2% de taxa dos seus investidores.\n",
    "- Caso o fundo consiga mais de 20% de retorno, ele ira cobrar 4% de taxa dos seus investidores.\n"
   ]
  },
  {
   "cell_type": "code",
   "execution_count": 23,
   "id": "86870b41",
   "metadata": {},
   "outputs": [
    {
     "name": "stdout",
     "output_type": "stream",
     "text": [
      "A taxa foi de: 0.02 \n"
     ]
    }
   ],
   "source": [
    "meta = 0.05\n",
    "taxa = 0\n",
    "fundo = 0.19\n",
    "\n",
    "if fundo > meta:\n",
    "    if fundo > 0.20:\n",
    "        taxa=0.04\n",
    "        print(\"O fundo foi maior que 20% de retorno, então a taxa é: {} \" .format(taxa))\n",
    "    else:\n",
    "        taxa=0.02\n",
    "        print (\"A taxa foi de: {} \". format(taxa))\n",
    "else:\n",
    "    taxa=0\n",
    "    print(\"A taxa foi de: {} \" .format(taxa))"
   ]
  }
 ],
 "metadata": {
  "kernelspec": {
   "display_name": "Python 3 (ipykernel)",
   "language": "python",
   "name": "python3"
  },
  "language_info": {
   "codemirror_mode": {
    "name": "ipython",
    "version": 3
   },
   "file_extension": ".py",
   "mimetype": "text/x-python",
   "name": "python",
   "nbconvert_exporter": "python",
   "pygments_lexer": "ipython3",
   "version": "3.9.7"
  }
 },
 "nbformat": 4,
 "nbformat_minor": 5
}
