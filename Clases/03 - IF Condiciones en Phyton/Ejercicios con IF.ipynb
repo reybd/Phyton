{
 "cells": [
  {
   "cell_type": "markdown",
   "id": "96d0accd",
   "metadata": {},
   "source": [
    "EJERCICIO 1. Calculo de Bonus\n",
    "\n",
    "Cria um programa que calcule e dê um print no bonus que os funcionarios devem receber segundo a regra:\n",
    "\n",
    "- A meta é 1000 vendas.\n",
    "- Se o valor de vendas for maior ou igual a meta o valor do bonus do funicnario é 10% do valor de vendas.\n",
    "- Caso contrario o valor de bonus do funcionario é 0.\n",
    "Print bounus dos 3 funcionarios"
   ]
  },
  {
   "cell_type": "code",
   "execution_count": 4,
   "id": "ca2d4cf1",
   "metadata": {},
   "outputs": [
    {
     "name": "stdout",
     "output_type": "stream",
     "text": [
      "O funcionario ganhou: 100.0 de bonus\n",
      "O funcionario 2 não ganhou bonus\n",
      "O funcionario ganhou: 270.0 de bonus\n"
     ]
    }
   ],
   "source": [
    "vendas_funcionario1 = 1000\n",
    "vendas_funcionario2 = 770\n",
    "vendas_funcionario3 = 2700\n",
    "bonus = 0\n",
    "meta =1000\n",
    "\n",
    "# FUNCIONARIO 1\n",
    "if vendas_funcionario1 >= meta:\n",
    "    bonus = 0.10*vendas_funcionario1\n",
    "    print(\"O funcionario ganhou: {} de bonus\" .format(bonus))\n",
    "else:\n",
    "    print(\"O funcionario 1 não ganhou bonus\")\n",
    "\n",
    "# FUNCIONARIO 2    \n",
    "if vendas_funcionario2 >= meta:\n",
    "    bonus = 0.10*vendas_funcionario2\n",
    "    print(\"O funcionario ganhou: {} de bonus\" .format(bonus))\n",
    "else:\n",
    "    print(\"O funcionario 2 não ganhou bonus\")\n",
    "\n",
    "# FUNCIONARIO 3\n",
    "if vendas_funcionario3 >= meta:\n",
    "    bonus = 0.10*vendas_funcionario3\n",
    "    print(\"O funcionario ganhou: {} de bonus\" .format(bonus))\n",
    "else:\n",
    "    print(\"O funcionario 3 não ganhou bonus\")\n",
    "    \n"
   ]
  },
  {
   "cell_type": "markdown",
   "id": "f3c3a8b2",
   "metadata": {},
   "source": [
    "EJERCICIO 2 - Caluclo de bonus com uma nova regra\n",
    "\n",
    "Criar um novo codigo que calcule e dê um print no bonus dos funcionarios novamente. Porem há uma nova regra nesse 2do caso:\n",
    "\n",
    "A meta é 1000 vendas\n",
    "Agora, os funcionarios que venderem muito acima da meta ganham mais bonus do que os outros. Então o bonus é definido da seguinte forma:\n",
    "\n",
    "- Se vendas funcionario for maior ou igual 2000, então o bonus é de 15% sobre o valor das vendas.\n",
    "- Se vendas funcionario for menor do que 2000 e maior ou igual a 1000, então o bonus é de 10% sobre o valor das vendas.\n",
    "- Se vendas funcionario for menos do que 1000 então o bonus do funcionario é de 0.\n",
    "\n",
    "Use as mesmas variaveis  de vendas_funcionario"
   ]
  },
  {
   "cell_type": "code",
   "execution_count": 24,
   "id": "dd1cd21c",
   "metadata": {},
   "outputs": [
    {
     "name": "stdout",
     "output_type": "stream",
     "text": [
      "O funcionario 1 ganhou 110.0 de bonus\n",
      "O funcionario 2 ganhou 0 de bonus\n",
      "O funcionario 3 ganhou 405.0 de bonus\n"
     ]
    }
   ],
   "source": [
    "vendas_funcionario1 = 1100\n",
    "vendas_funcionario2 = 770\n",
    "vendas_funcionario3 = 2700\n",
    "meta = 1000\n",
    "bonus = 0\n",
    "\n",
    "# -----------------------------------------------------------------------\n",
    "if vendas_funcionario1 >= 2000:\n",
    "        bonus = 0.15*vendas_funcionario1\n",
    "           \n",
    "elif vendas_funcionario1 >= 1000:\n",
    "        bonus = 0.10*vendas_funcionario1\n",
    "else:\n",
    "        bonus = 0\n",
    "print(\"O funcionario 1 ganhou {} de bonus\" .format(bonus))\n",
    "\n",
    "# -----------------------------------------------------------------------        \n",
    "if vendas_funcionario2 >= 2000:\n",
    "        bonus = 0.15*vendas_funcionario2\n",
    "            \n",
    "elif vendas_funcionario2 >= 1000:\n",
    "        bonus = 0.10*vendas_funcionario2\n",
    "\n",
    "else:\n",
    "        bonus = 0\n",
    "print(\"O funcionario 2 ganhou {} de bonus\" .format(bonus))\n",
    "\n",
    "# -----------------------------------------------------------------------\n",
    "if vendas_funcionario3 >= 2000:\n",
    "        bonus = 0.15*vendas_funcionario3\n",
    "            \n",
    "elif vendas_funcionario3 >=1000:\n",
    "        bonus = 0.10*vendas_funcionario3\n",
    "\n",
    "else:\n",
    "        bonus = 0\n",
    "print(\"O funcionario 3 ganhou {} de bonus\" .format(bonus))\n",
    "        "
   ]
  },
  {
   "cell_type": "markdown",
   "id": "f36a11e7",
   "metadata": {},
   "source": [
    "Agora so fazendo com IF dentro de IF"
   ]
  },
  {
   "cell_type": "code",
   "execution_count": 15,
   "id": "0d8c5d88",
   "metadata": {},
   "outputs": [
    {
     "name": "stdout",
     "output_type": "stream",
     "text": [
      "O funcionario 1 ganhou 100.0 de bonus \n",
      "O funcionario 2 ganhou 0 de bonus \n",
      "O funcionario 3 ganhou 405.0 de bonus \n"
     ]
    }
   ],
   "source": [
    "vendas_funcionario1 = 1000\n",
    "vendas_funcionario2 = 770\n",
    "vendas_funcionario3 = 2700\n",
    "meta = 1000\n",
    "bonus = 0\n",
    "\n",
    "#---------------------------------------------------------------------\n",
    "if vendas_funcionario1 >= 1000:\n",
    "    if vendas_funcionario1 >= 2000:\n",
    "        bonus = 0.15*vendas_funcionario1\n",
    "    else:\n",
    "        bonus = 0.10*vendas_funcionario1\n",
    "else:\n",
    "    bonus = 0\n",
    "print(\"O funcionario 1 ganhou {} de bonus \" .format(bonus))\n",
    "\n",
    "#---------------------------------------------------------------------\n",
    "if vendas_funcionario2 >= 1000:\n",
    "    if vendas_funcionario2 >= 2000:\n",
    "        bonus = 0.15*vendas_funcionario2\n",
    "    else:\n",
    "        bonus = 0.10*vendas_funcionario2\n",
    "else:\n",
    "    bonus = 0\n",
    "print(\"O funcionario 2 ganhou {} de bonus \" .format(bonus))\n",
    "\n",
    "#---------------------------------------------------------------------\n",
    "if vendas_funcionario3 >= 1000:\n",
    "    if vendas_funcionario3 >= 2000:\n",
    "        bonus = 0.15*vendas_funcionario3\n",
    "    else:\n",
    "        bonus = 0.10*vendas_funcionario3\n",
    "else:\n",
    "    bonus = 0\n",
    "print(\"O funcionario 3 ganhou {} de bonus \" .format(bonus))"
   ]
  }
 ],
 "metadata": {
  "kernelspec": {
   "display_name": "Python 3 (ipykernel)",
   "language": "python",
   "name": "python3"
  },
  "language_info": {
   "codemirror_mode": {
    "name": "ipython",
    "version": 3
   },
   "file_extension": ".py",
   "mimetype": "text/x-python",
   "name": "python",
   "nbconvert_exporter": "python",
   "pygments_lexer": "ipython3",
   "version": "3.9.7"
  }
 },
 "nbformat": 4,
 "nbformat_minor": 5
}
