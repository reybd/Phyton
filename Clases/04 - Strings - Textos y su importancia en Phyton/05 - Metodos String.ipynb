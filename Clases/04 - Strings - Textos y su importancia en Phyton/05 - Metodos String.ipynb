{
 "cells": [
  {
   "cell_type": "code",
   "execution_count": 9,
   "id": "a56cb81d",
   "metadata": {},
   "outputs": [
    {
     "name": "stdout",
     "output_type": "stream",
     "text": [
      "O faturamento da loja foi de: 5000\n",
      "Lira\n",
      "lira\n",
      "1\n",
      "True\n",
      "4\n",
      "True\n",
      "True\n"
     ]
    }
   ],
   "source": [
    "texto = \"lira\"\n",
    "email = \"lira@gmail.com\"\n",
    "\n",
    "\n",
    "#------------------------------------------------------------------------------------------------\n",
    "faturamento = 5000\n",
    "cadena = \"O faturamento da loja foi de: {}\"    # otra manera de utilizar el metodo format\n",
    "print(cadena.format(faturamento))\n",
    "#------------------------------------------------------------------------------------------------\n",
    "\n",
    "print(texto.capitalize())               # coloca el primer caracter da la cadena en mayusucula\n",
    "print(texto.casefold())                 # transforma todas las letras en minusculas\n",
    "print(email.count(\"@\"))                 # contar cuantas veces tiene un caracter dentro de la cadena\n",
    "print(email.endswith(\"gmail.com\"))      # verifica si el texto termina con un valor y devuelve TRUE\n",
    "print(email.find(\"@\"))                  # busca un caracter y devuelve la posicion en la cadena donde se encuentra\n",
    "print(texto.isalnum())                  # pregunta si toda la cadena es hecha de caracteres alfanumericos (letras y numeros). Letras com acento ou ç son consideradas letras para esa funcion\n",
    "print(texto.isalpha())                  # verifica si la cadena es toda hecha de letras\n"
   ]
  }
 ],
 "metadata": {
  "kernelspec": {
   "display_name": "Python 3 (ipykernel)",
   "language": "python",
   "name": "python3"
  },
  "language_info": {
   "codemirror_mode": {
    "name": "ipython",
    "version": 3
   },
   "file_extension": ".py",
   "mimetype": "text/x-python",
   "name": "python",
   "nbconvert_exporter": "python",
   "pygments_lexer": "ipython3",
   "version": "3.9.7"
  }
 },
 "nbformat": 4,
 "nbformat_minor": 5
}
