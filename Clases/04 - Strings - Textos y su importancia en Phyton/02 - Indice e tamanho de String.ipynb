{
 "cells": [
  {
   "cell_type": "markdown",
   "id": "86847625",
   "metadata": {},
   "source": [
    "0 1 2 3 4 5 6 7 8 9 10 11 12 13\n",
    "l i r a @ g m a i l  .  c  o  m"
   ]
  },
  {
   "cell_type": "code",
   "execution_count": 2,
   "id": "14c0fd2d",
   "metadata": {},
   "outputs": [
    {
     "name": "stdout",
     "output_type": "stream",
     "text": [
      "14\n",
      "l\n"
     ]
    }
   ],
   "source": [
    "email = \"lira@gmail.com\"\n",
    "nome = \"Joao Lira\"\n",
    "\n",
    "print(len(email)) # Tamanho de la cadena\n",
    "print(email[0])   # letra que esta en un indice determinado en la cadena"
   ]
  }
 ],
 "metadata": {
  "kernelspec": {
   "display_name": "Python 3 (ipykernel)",
   "language": "python",
   "name": "python3"
  },
  "language_info": {
   "codemirror_mode": {
    "name": "ipython",
    "version": 3
   },
   "file_extension": ".py",
   "mimetype": "text/x-python",
   "name": "python",
   "nbconvert_exporter": "python",
   "pygments_lexer": "ipython3",
   "version": "3.9.7"
  }
 },
 "nbformat": 4,
 "nbformat_minor": 5
}
