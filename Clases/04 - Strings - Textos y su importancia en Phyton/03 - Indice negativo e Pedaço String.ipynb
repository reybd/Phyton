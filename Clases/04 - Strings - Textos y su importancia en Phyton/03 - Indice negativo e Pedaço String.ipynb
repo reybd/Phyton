{
 "cells": [
  {
   "cell_type": "markdown",
   "id": "63edb14a",
   "metadata": {},
   "source": [
    "-14 -13 -12 -11 -10 -9 -8 -7 -6 -5 -4 -3 -2 -1\n",
    " l   i   r   a   @   g  m  a  i  l  .  c  o  m\n",
    " \n",
    "0 1 2 3 4 5 6 7 8 9 10 11 12 13\n",
    "l i r a @ g m a i l  .  c  o  m"
   ]
  },
  {
   "cell_type": "code",
   "execution_count": 10,
   "id": "ce5b55a0",
   "metadata": {},
   "outputs": [
    {
     "name": "stdout",
     "output_type": "stream",
     "text": [
      "m\n",
      "lira@gmail.co\n",
      "lira@\n",
      "gmail.com\n",
      "gma\n"
     ]
    }
   ],
   "source": [
    "email = \"lira@gmail.com\"\n",
    "nome = \"Joao Paulo Lira\"\n",
    "\n",
    "print(email[-1])  # posicion n en negativo\n",
    "print(email[:-1]) # imprime toda la cadena hasta antes de la posicion indicada\n",
    "print(email[:5])  # imprime toda la cadena hasta antes de la posicion indicada, cuando el indice es positivo\n",
    "print(email[5:])  # imprime la cadena incluyendo a partir de la posicion en adelante\n",
    "print(email[5:8]) # imprime desde la posicion hasta antes de la posicion final en el corchete"
   ]
  },
  {
   "cell_type": "markdown",
   "id": "a36957bf",
   "metadata": {},
   "source": [
    "Ejercicios para fixação: basta completar os prnts de forma correta"
   ]
  },
  {
   "cell_type": "code",
   "execution_count": 16,
   "id": "bf26904c",
   "metadata": {},
   "outputs": [
    {
     "name": "stdout",
     "output_type": "stream",
     "text": [
      "Tamanho do email é: 14 carateres\n",
      "O primeiro carater da cadena é: l\n",
      "O ultimo carater da cadena é: m\n",
      "Servidor do email é: gmail.com\n"
     ]
    }
   ],
   "source": [
    "print(\"Tamanho do email é: \" + str(len(email)) + \" carateres\")  # imprimir longitud de la cadena\n",
    "print(\"O primeiro carater da cadena é: \" + email[0])            # imprimir el primer caracter de la cadena\n",
    "print(\"O ultimo carater da cadena é: \" + email[-1])             # imprimir el ultimo caracter de la cadena\n",
    "print(\"Servidor do email é: \" + email[5:])                      "
   ]
  }
 ],
 "metadata": {
  "kernelspec": {
   "display_name": "Python 3 (ipykernel)",
   "language": "python",
   "name": "python3"
  },
  "language_info": {
   "codemirror_mode": {
    "name": "ipython",
    "version": 3
   },
   "file_extension": ".py",
   "mimetype": "text/x-python",
   "name": "python",
   "nbconvert_exporter": "python",
   "pygments_lexer": "ipython3",
   "version": "3.9.7"
  }
 },
 "nbformat": 4,
 "nbformat_minor": 5
}
