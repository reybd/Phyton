{
 "cells": [
  {
   "cell_type": "markdown",
   "id": "a3fd6555",
   "metadata": {},
   "source": [
    "OPERACIONES CON STRING\n",
    "\n",
    "str = transforma numero en string\n",
    "int = verifica si un texto esta contenido dentro de otro\n",
    "operador + = concatenar string\n",
    "format e {} = sustituye valores\n",
    "%s = sustituye texto\n",
    "%d = sustituye numeros decimales"
   ]
  },
  {
   "cell_type": "code",
   "execution_count": 1,
   "id": "50df94bb",
   "metadata": {},
   "outputs": [],
   "source": [
    "faturamento = 1000\n",
    "custo = 500\n",
    "lucro = faturamento - custo"
   ]
  },
  {
   "cell_type": "code",
   "execution_count": 13,
   "id": "a26e89a9",
   "metadata": {},
   "outputs": [
    {
     "name": "stdout",
     "output_type": "stream",
     "text": [
      "O faturamento da loja foi: 1000\n",
      "O faturamento da loja foi: 1000 \n",
      "O faturamento da loja foi: 1000. O custo foi de: 500. E o lucro foi de: 500. Lembrando que o lucro foi de: 500\n",
      "O faturamento foi de: 1000\n",
      "O faturamento foi de: faturamento\n",
      "True\n",
      "False\n"
     ]
    }
   ],
   "source": [
    "print(\"O faturamento da loja foi: \" + str(faturamento))  # uso de str() y concatenar con (+)\n",
    "print(\"O faturamento da loja foi: {} \" .format(faturamento))  # uso de format {}\n",
    "print(\"O faturamento da loja foi: {0}. O custo foi de: {1}. E o lucro foi de: {2}. Lembrando que o lucro foi de: {2}\" .format(faturamento, custo, lucro))   # Colocando varias variables en el format, incluso repitiendo alguna\n",
    "print(\"O faturamento foi de: %d\" % faturamento)  # utilizando %d colocando la variable al final\n",
    "print(\"O faturamento foi de: %s\" % \"faturamento\")  # utilizando %s colocando un texto al final\n",
    "print(\"@\" in \"lira@gmail.com\")  # preguntar si un caracter esta dentro de la cadena: TRUE\n",
    "print(\"@\" in \"lira.gmail.com\")  # preguntar si un caracter esta dentro de la cadena: FALSE\n"
   ]
  }
 ],
 "metadata": {
  "kernelspec": {
   "display_name": "Python 3 (ipykernel)",
   "language": "python",
   "name": "python3"
  },
  "language_info": {
   "codemirror_mode": {
    "name": "ipython",
    "version": 3
   },
   "file_extension": ".py",
   "mimetype": "text/x-python",
   "name": "python",
   "nbconvert_exporter": "python",
   "pygments_lexer": "ipython3",
   "version": "3.9.7"
  }
 },
 "nbformat": 4,
 "nbformat_minor": 5
}
